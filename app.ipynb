{
 "cells": [
  {
   "cell_type": "code",
   "execution_count": 1,
   "metadata": {},
   "outputs": [],
   "source": [
    "import yaml\n",
    "import csv\n",
    "\n",
    "# Open the YAML file\n",
    "with open('landscape.yml') as f:\n",
    "\n",
    "    # Load YAML data\n",
    "    data = yaml.safe_load(f)\n",
    "\n"
   ]
  },
  {
   "cell_type": "code",
   "execution_count": 2,
   "metadata": {},
   "outputs": [
    {
     "name": "stdout",
     "output_type": "stream",
     "text": [
      "CSV file \"output.csv\" created successfully.\n"
     ]
    }
   ],
   "source": [
    "# Specify the CSV file path\n",
    "csv_file_path = 'output.csv'\n",
    "\n",
    "# Open the CSV file for writing\n",
    "with open(csv_file_path, 'w', newline='') as csvfile:\n",
    "    # Define the CSV header\n",
    "    fieldnames = ['name', 'homepage_url', 'repo_url', 'logo', 'twitter', 'crunchbase']\n",
    "    \n",
    "    # Create the CSV writer\n",
    "    csv_writer = csv.DictWriter(csvfile, fieldnames=fieldnames)\n",
    "    \n",
    "    # Write the header to the CSV file\n",
    "    csv_writer.writeheader()\n",
    "    \n",
    "    # Iterate through the data and write rows to the CSV file\n",
    "    for category in data['landscape']:\n",
    "        for subcategory in category['subcategories']:\n",
    "            for item in subcategory['items']:\n",
    "                csv_writer.writerow({\n",
    "                    'name': item['name'],\n",
    "                    'homepage_url': item['homepage_url'],\n",
    "                    'repo_url': item.get('repo_url', ''),\n",
    "                    'logo': item.get('logo', ''),\n",
    "                    'twitter': item.get('twitter', ''),\n",
    "                    'crunchbase': item.get('crunchbase', '')\n",
    "                })\n",
    "\n",
    "print(f'CSV file \"{csv_file_path}\" created successfully.')\n"
   ]
  }
 ],
 "metadata": {
  "kernelspec": {
   "display_name": "Python 3",
   "language": "python",
   "name": "python3"
  },
  "language_info": {
   "codemirror_mode": {
    "name": "ipython",
    "version": 3
   },
   "file_extension": ".py",
   "mimetype": "text/x-python",
   "name": "python",
   "nbconvert_exporter": "python",
   "pygments_lexer": "ipython3",
   "version": "3.10.12"
  }
 },
 "nbformat": 4,
 "nbformat_minor": 2
}
